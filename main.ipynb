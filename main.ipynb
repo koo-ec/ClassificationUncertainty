{
 "cells": [
  {
   "cell_type": "code",
   "execution_count": 1,
   "metadata": {},
   "outputs": [],
   "source": [
    "%matplotlib inline\n",
    "from fastai.vision import *\n",
    "from fastai.callbacks import *\n",
    "from torchvision.utils import make_grid"
   ]
  },
  {
   "cell_type": "code",
   "execution_count": 2,
   "metadata": {},
   "outputs": [],
   "source": [
    "mnist_data = (ImageList.from_folder(untar_data(URLs.MNIST), convert_mode='L')\n",
    "                       .split_by_folder('training', 'testing')\n",
    "                       .label_from_folder()\n",
    "                       .databunch())"
   ]
  },
  {
   "cell_type": "markdown",
   "metadata": {},
   "source": [
    "# Utils"
   ]
  },
  {
   "cell_type": "code",
   "execution_count": 78,
   "metadata": {},
   "outputs": [
    {
     "data": {
      "image/png": "[encoded data removed]",
      "text/plain": [
       "<Figure size 216x216 with 1 Axes>"
      ]
     },
     "metadata": {
      "needs_background": "light"
     },
     "output_type": "display_data"
    }
   ],
   "source": [
    "digit = mnist_data.train_ds.x[23181]\n",
    "digit.show(cmap='gray')"
   ]
  },
  {
   "cell_type": "code",
   "execution_count": 169,
   "metadata": {},
   "outputs": [
    {
     "data": {
      "text/plain": [
       "torch.Size([19, 1, 28, 28])"
      ]
     },
     "execution_count": 169,
     "metadata": {},
     "output_type": "execute_result"
    }
   ],
   "source": [
    "n_degs = 19\n",
    "degs = torch.linspace(0, 180, n_degs)\n",
    "rot_digits = torch.stack([digit.clone().rotate(r).data for r in degs]).cuda()\n",
    "rot_digits.shape"
   ]
  },
  {
   "cell_type": "code",
   "execution_count": 171,
   "metadata": {},
   "outputs": [
    {
     "data": {
      "image/png": "[encoded data removed]",
      "text/plain": [
       "<Figure size 720x288 with 1 Axes>"
      ]
     },
     "metadata": {
      "needs_background": "light"
     },
     "output_type": "display_data"
    }
   ],
   "source": [
    "degs_img = make_grid(rot_digits, n_degs)\n",
    "show_image(degs_img, figsize=(10,4));"
   ]
  },
  {
   "cell_type": "markdown",
   "metadata": {},
   "source": [
    "# Softmax"
   ]
  },
  {
   "cell_type": "code",
   "execution_count": 11,
   "metadata": {},
   "outputs": [],
   "source": [
    "class LeNet(nn.Sequential):\n",
    "    def __init__(self):\n",
    "        layers = [conv_layer(1, 20, norm_type=None), nn.MaxPool2d(2),\n",
    "                  conv_layer(20, 50, norm_type=None), nn.MaxPool2d(2),\n",
    "                  Flatten(), nn.Linear(2450, 500), nn.ReLU(True), nn.Dropout(0.5), nn.Linear(500,10), ]\n",
    "        super().__init__(*layers)\n",
    "        \n",
    "softmax_model = LeNet().cuda()"
   ]
  },
  {
   "cell_type": "code",
   "execution_count": 12,
   "metadata": {},
   "outputs": [],
   "source": [
    "xb,yb = mnist_data.one_batch(cpu=False, denorm=False)"
   ]
  },
  {
   "cell_type": "code",
   "execution_count": 13,
   "metadata": {
    "collapsed": true
   },
   "outputs": [
    {
     "name": "stdout",
     "output_type": "stream",
     "text": [
      "torch.Size([64, 1, 28, 28])\n",
      "torch.Size([64, 20, 28, 28])\n",
      "torch.Size([64, 20, 14, 14])\n",
      "torch.Size([64, 50, 14, 14])\n",
      "torch.Size([64, 50, 7, 7])\n",
      "torch.Size([64, 2450])\n",
      "torch.Size([64, 500])\n",
      "torch.Size([64, 500])\n",
      "torch.Size([64, 500])\n",
      "torch.Size([64, 10])\n"
     ]
    }
   ],
   "source": [
    "with torch.no_grad(), Hooks(softmax_model.children(), lambda m,i,o: print(o.shape)) as hooks:\n",
    "    print(xb.shape)\n",
    "    yb_ = softmax_model.eval()(xb)"
   ]
  },
  {
   "cell_type": "code",
   "execution_count": 14,
   "metadata": {},
   "outputs": [],
   "source": [
    "softmax_learner = Learner(mnist_data, softmax_model, metrics=accuracy)"
   ]
  },
  {
   "cell_type": "code",
   "execution_count": 15,
   "metadata": {},
   "outputs": [
    {
     "data": {
      "text/html": [
       "<table border=\"1\" class=\"dataframe\">\n",
       "  <thead>\n",
       "    <tr style=\"text-align: left;\">\n",
       "      <th>epoch</th>\n",
       "      <th>train_loss</th>\n",
       "      <th>valid_loss</th>\n",
       "      <th>accuracy</th>\n",
       "      <th>time</th>\n",
       "    </tr>\n",
       "  </thead>\n",
       "  <tbody>\n",
       "    <tr>\n",
       "      <td>0</td>\n",
       "      <td>0.077099</td>\n",
       "      <td>0.047513</td>\n",
       "      <td>0.984100</td>\n",
       "      <td>03:14</td>\n",
       "    </tr>\n",
       "    <tr>\n",
       "      <td>1</td>\n",
       "      <td>0.055194</td>\n",
       "      <td>0.030035</td>\n",
       "      <td>0.989800</td>\n",
       "      <td>00:12</td>\n",
       "    </tr>\n",
       "    <tr>\n",
       "      <td>2</td>\n",
       "      <td>0.035801</td>\n",
       "      <td>0.028275</td>\n",
       "      <td>0.990200</td>\n",
       "      <td>00:13</td>\n",
       "    </tr>\n",
       "    <tr>\n",
       "      <td>3</td>\n",
       "      <td>0.032054</td>\n",
       "      <td>0.023355</td>\n",
       "      <td>0.991700</td>\n",
       "      <td>00:12</td>\n",
       "    </tr>\n",
       "    <tr>\n",
       "      <td>4</td>\n",
       "      <td>0.021338</td>\n",
       "      <td>0.027364</td>\n",
       "      <td>0.991400</td>\n",
       "      <td>00:12</td>\n",
       "    </tr>\n",
       "  </tbody>\n",
       "</table>"
      ],
      "text/plain": [
       "<IPython.core.display.HTML object>"
      ]
     },
     "metadata": {},
     "output_type": "display_data"
    }
   ],
   "source": [
    "softmax_learner.fit(5, 1e-3)"
   ]
  },
  {
   "cell_type": "code",
   "execution_count": 230,
   "metadata": {},
   "outputs": [],
   "source": [
    "with torch.no_grad(): yb_ = softmax_model.eval()(rot_digits)"
   ]
  },
  {
   "cell_type": "code",
   "execution_count": 231,
   "metadata": {},
   "outputs": [
    {
     "data": {
      "text/plain": [
       "tensor([1, 5, 7])"
      ]
     },
     "execution_count": 231,
     "metadata": {},
     "output_type": "execute_result"
    }
   ],
   "source": [
    "pred = F.softmax(yb_, dim=1)\n",
    "scores = (pred > 0.7).sum(0)\n",
    "lbls = torch.arange(10)[scores>0]\n",
    "lp = yb_[:,lbls]\n",
    "lbls"
   ]
  },
  {
   "cell_type": "code",
   "execution_count": 232,
   "metadata": {},
   "outputs": [
    {
     "data": {
      "image/png": "[encoded data removed]",
      "text/plain": [
       "<Figure size 576x432 with 2 Axes>"
      ]
     },
     "metadata": {
      "needs_background": "light"
     },
     "output_type": "display_data"
    }
   ],
   "source": [
    "fig,axs = plt.subplots(2, 1, figsize=(8,6), gridspec_kw={'height_ratios': [3, 1]})\n",
    "\n",
    "for i,m in zip(range_of(lbls),['s','^','o']*10): axs[0].plot(degs, lp[:,i], marker=m)\n",
    "axs[0].legend(lbls.tolist())\n",
    "axs[0].set_xlim([0,180])  \n",
    "axs[0].set_xlabel('Rotation Degree')\n",
    "axs[0].set_ylabel('Classification Probability')\n",
    "\n",
    "show_image(degs_img, ax=axs[1])\n",
    "plt.tight_layout()"
   ]
  },
  {
   "cell_type": "markdown",
   "metadata": {},
   "source": [
    "# ---"
   ]
  },
  {
   "cell_type": "code",
   "execution_count": null,
   "metadata": {},
   "outputs": [],
   "source": []
  }
 ],
 "metadata": {
  "kernelspec": {
   "display_name": "Python 3",
   "language": "python",
   "name": "python3"
  },
  "language_info": {
   "codemirror_mode": {
    "name": "ipython",
    "version": 3
   },
   "file_extension": ".py",
   "mimetype": "text/x-python",
   "name": "python",
   "nbconvert_exporter": "python",
   "pygments_lexer": "ipython3",
   "version": "3.7.3"
  },
  "toc": {
   "base_numbering": 1,
   "nav_menu": {},
   "number_sections": true,
   "sideBar": true,
   "skip_h1_title": false,
   "title_cell": "Table of Contents",
   "title_sidebar": "Contents",
   "toc_cell": false,
   "toc_position": {},
   "toc_section_display": true,
   "toc_window_display": false
  }
 },
 "nbformat": 4,
 "nbformat_minor": 2
}
