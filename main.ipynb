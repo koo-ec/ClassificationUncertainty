{
 "cells": [
  {
   "cell_type": "code",
   "execution_count": 1,
   "metadata": {},
   "outputs": [],
   "source": [
    "%matplotlib inline\n",
    "from fastai.vision import *\n",
    "from fastai.callbacks import *\n",
    "from torchvision.utils import make_grid"
   ]
  },
  {
   "cell_type": "code",
   "execution_count": 2,
   "metadata": {},
   "outputs": [],
   "source": [
    "mnist_data = (ImageList.from_folder(untar_data(URLs.MNIST), convert_mode='L')\n",
    "                       .split_by_folder('training', 'testing')\n",
    "                       .label_from_folder()\n",
    "                       .databunch())"
   ]
  },
  {
   "cell_type": "markdown",
   "metadata": {
    "heading_collapsed": true
   },
   "source": [
    "# Utils"
   ]
  },
  {
   "cell_type": "code",
   "execution_count": 3,
   "metadata": {
    "hidden": true
   },
   "outputs": [
    {
     "data": {
      "image/png": "[encoded data removed]",
      "text/plain": [
       "<Figure size 216x216 with 1 Axes>"
      ]
     },
     "metadata": {
      "needs_background": "light"
     },
     "output_type": "display_data"
    }
   ],
   "source": [
    "digit = mnist_data.train_ds.x[23181]\n",
    "digit.show(cmap='gray')"
   ]
  },
  {
   "cell_type": "code",
   "execution_count": 4,
   "metadata": {
    "hidden": true
   },
   "outputs": [
    {
     "data": {
      "text/plain": [
       "torch.Size([19, 1, 28, 28])"
      ]
     },
     "execution_count": 4,
     "metadata": {},
     "output_type": "execute_result"
    }
   ],
   "source": [
    "n_degs = 19\n",
    "degs = torch.linspace(0, 180, n_degs)\n",
    "rot_digits = torch.stack([digit.clone().rotate(r).data for r in degs]).cuda()\n",
    "rot_digits.shape"
   ]
  },
  {
   "cell_type": "code",
   "execution_count": 5,
   "metadata": {
    "hidden": true
   },
   "outputs": [
    {
     "data": {
      "image/png": "[encoded data removed]",
      "text/plain": [
       "<Figure size 720x288 with 1 Axes>"
      ]
     },
     "metadata": {
      "needs_background": "light"
     },
     "output_type": "display_data"
    }
   ],
   "source": [
    "degs_img = 1 - make_grid(rot_digits, n_degs)\n",
    "show_image(degs_img, figsize=(10,4));"
   ]
  },
  {
   "cell_type": "markdown",
   "metadata": {},
   "source": [
    "# Softmax Model"
   ]
  },
  {
   "cell_type": "code",
   "execution_count": 45,
   "metadata": {},
   "outputs": [],
   "source": [
    "class LeNet(nn.Sequential):\n",
    "    def __init__(self):\n",
    "        layers = [conv_layer(1, 20, norm_type=None), nn.MaxPool2d(2),\n",
    "                  conv_layer(20, 50, norm_type=None), nn.MaxPool2d(2),\n",
    "                  Flatten(), nn.Linear(2450, 500), nn.ReLU(True), nn.Dropout(0.5), nn.Linear(500,10)]\n",
    "        super().__init__(*layers)\n",
    "        \n",
    "softmax_model = LeNet().cuda()"
   ]
  },
  {
   "cell_type": "code",
   "execution_count": 46,
   "metadata": {},
   "outputs": [],
   "source": [
    "xb,yb = mnist_data.one_batch(cpu=False, denorm=False)"
   ]
  },
  {
   "cell_type": "code",
   "execution_count": 47,
   "metadata": {},
   "outputs": [
    {
     "name": "stdout",
     "output_type": "stream",
     "text": [
      "torch.Size([64, 1, 28, 28])\n",
      "torch.Size([64, 20, 28, 28])\n",
      "torch.Size([64, 20, 14, 14])\n",
      "torch.Size([64, 50, 14, 14])\n",
      "torch.Size([64, 50, 7, 7])\n",
      "torch.Size([64, 2450])\n",
      "torch.Size([64, 500])\n",
      "torch.Size([64, 500])\n",
      "torch.Size([64, 500])\n",
      "torch.Size([64, 10])\n"
     ]
    }
   ],
   "source": [
    "with torch.no_grad(), Hooks(softmax_model.children(), lambda m,i,o: print(o.shape)) as hooks:\n",
    "    print(xb.shape)\n",
    "    yb_ = softmax_model.eval()(xb)"
   ]
  },
  {
   "cell_type": "code",
   "execution_count": 48,
   "metadata": {},
   "outputs": [],
   "source": [
    "softmax_learner = Learner(mnist_data, softmax_model, metrics=accuracy)"
   ]
  },
  {
   "cell_type": "code",
   "execution_count": 49,
   "metadata": {},
   "outputs": [
    {
     "data": {
      "text/html": [
       "<table border=\"1\" class=\"dataframe\">\n",
       "  <thead>\n",
       "    <tr style=\"text-align: left;\">\n",
       "      <th>epoch</th>\n",
       "      <th>train_loss</th>\n",
       "      <th>valid_loss</th>\n",
       "      <th>accuracy</th>\n",
       "      <th>time</th>\n",
       "    </tr>\n",
       "  </thead>\n",
       "  <tbody>\n",
       "    <tr>\n",
       "      <td>0</td>\n",
       "      <td>0.078996</td>\n",
       "      <td>0.041884</td>\n",
       "      <td>0.985400</td>\n",
       "      <td>00:13</td>\n",
       "    </tr>\n",
       "    <tr>\n",
       "      <td>1</td>\n",
       "      <td>0.052608</td>\n",
       "      <td>0.032616</td>\n",
       "      <td>0.988600</td>\n",
       "      <td>00:14</td>\n",
       "    </tr>\n",
       "    <tr>\n",
       "      <td>2</td>\n",
       "      <td>0.037981</td>\n",
       "      <td>0.029217</td>\n",
       "      <td>0.990400</td>\n",
       "      <td>00:14</td>\n",
       "    </tr>\n",
       "    <tr>\n",
       "      <td>3</td>\n",
       "      <td>0.037719</td>\n",
       "      <td>0.028680</td>\n",
       "      <td>0.990500</td>\n",
       "      <td>00:15</td>\n",
       "    </tr>\n",
       "    <tr>\n",
       "      <td>4</td>\n",
       "      <td>0.028377</td>\n",
       "      <td>0.036151</td>\n",
       "      <td>0.990300</td>\n",
       "      <td>00:12</td>\n",
       "    </tr>\n",
       "  </tbody>\n",
       "</table>"
      ],
      "text/plain": [
       "<IPython.core.display.HTML object>"
      ]
     },
     "metadata": {},
     "output_type": "display_data"
    }
   ],
   "source": [
    "# softmax_learner.fit(5, 1e-3)\n",
    "# softmax_learner.save('softmax_model')\n",
    "softmax_learner.load('softmax_model');"
   ]
  },
  {
   "cell_type": "code",
   "execution_count": 50,
   "metadata": {},
   "outputs": [
    {
     "data": {
      "text/plain": [
       "tensor(0.9903)"
      ]
     },
     "execution_count": 50,
     "metadata": {},
     "output_type": "execute_result"
    }
   ],
   "source": [
    "yb_,yb = softmax_learner.get_preds()\n",
    "accuracy(yb_,yb)"
   ]
  },
  {
   "cell_type": "code",
   "execution_count": 51,
   "metadata": {},
   "outputs": [],
   "source": [
    "with torch.no_grad(): yb_ = softmax_model.eval()(rot_digits)"
   ]
  },
  {
   "cell_type": "code",
   "execution_count": 52,
   "metadata": {},
   "outputs": [
    {
     "data": {
      "text/plain": [
       "tensor([1, 2, 5], device='cuda:0')"
      ]
     },
     "execution_count": 52,
     "metadata": {},
     "output_type": "execute_result"
    }
   ],
   "source": [
    "pred = F.softmax(yb_, dim=1)\n",
    "lbls = pred.sum(0).topk(3)[1]\n",
    "lp = pred[:,lbls]\n",
    "lbls"
   ]
  },
  {
   "cell_type": "code",
   "execution_count": 53,
   "metadata": {},
   "outputs": [
    {
     "data": {
      "image/png": "[encoded data removed]",
      "text/plain": [
       "<Figure size 576x432 with 2 Axes>"
      ]
     },
     "metadata": {
      "needs_background": "light"
     },
     "output_type": "display_data"
    }
   ],
   "source": [
    "fig,axs = plt.subplots(2, 1, figsize=(8,6), gridspec_kw={'height_ratios': [3, 1]})\n",
    "\n",
    "for i,m in zip(range_of(lbls),['s','^','o']*10): axs[0].plot(degs, lp[:,i], marker=m)\n",
    "axs[0].legend(lbls.tolist())\n",
    "axs[0].set_xlim([0,180])  \n",
    "axs[0].set_xlabel('Rotation Degree')\n",
    "axs[0].set_ylabel('Classification Probability')\n",
    "\n",
    "show_image(degs_img, ax=axs[1])\n",
    "plt.tight_layout()"
   ]
  },
  {
   "cell_type": "markdown",
   "metadata": {},
   "source": [
    "# Uncertainty Model"
   ]
  },
  {
   "cell_type": "markdown",
   "metadata": {},
   "source": [
    "Using the Expected Mean Square Error (Eq. 5 in https://arxiv.org/abs/1806.01768)"
   ]
  },
  {
   "cell_type": "code",
   "execution_count": 63,
   "metadata": {},
   "outputs": [],
   "source": [
    "class LeNet(nn.Sequential):\n",
    "    def __init__(self):\n",
    "        layers = [conv_layer(1, 20, norm_type=None), nn.MaxPool2d(2),\n",
    "                  conv_layer(20, 50, norm_type=None), nn.MaxPool2d(2),\n",
    "                  Flatten(), nn.Linear(2450, 500), nn.ReLU(True), nn.Dropout(0.5), nn.Linear(500,10)]\n",
    "        super().__init__(*layers)\n",
    "        \n",
    "class LossEq5(nn.Module):\n",
    "    def __init__(self, learn:Learner):\n",
    "        super().__init__()\n",
    "        self.k = learn.data.c\n",
    "        self.annealing_step = 5 * len(learn.data.train_dl) # 5 * number of batches in train data\n",
    "        self.step = 0 # number of training steps (controlled by StepCallback)\n",
    "        self.get_evidence = nn.ReLU(True)\n",
    "        self.metric_names = ['log_ll', 'kl_reg']\n",
    "    \n",
    "    def kl(self, alpha:Tensor)->Rank0Tensor:\n",
    "        beta = torch.ones(1,self.k).to(alpha.device)\n",
    "        S_alpha = alpha.sum(dim=1, keepdim=True)\n",
    "        loss = (alpha-beta).mul(torch.digamma(alpha)-torch.digamma(S_alpha)).sum(dim=1, keepdim=True) +\\\n",
    "               torch.lgamma(S_alpha) - torch.lgamma(alpha).sum(dim=1, keepdim=True) +\\\n",
    "               torch.lgamma(beta).sum(dim=1, keepdim=True) - torch.lgamma(beta.sum(dim=1, keepdim=True))\n",
    "        anneal = min(1.0, self.step/self.annealing_step)\n",
    "        return loss.view(-1).mul(anneal).mean()\n",
    "    \n",
    "    def forward(self, input:Tensor, target:Tensor)->Rank0Tensor:\n",
    "        target = torch.eye(self.k).to(input.device)[target] # 1 hot encoding\n",
    "        evidence = self.get_evidence(input)\n",
    "        alpha = evidence.add(1)\n",
    "        S = alpha.sum(dim=1, keepdim=True)\n",
    "        log_ll = (target-alpha.div(S)).pow(2).sum(dim=1) + alpha.mul(S-alpha).div(S*S*S.add(1)).sum(dim=1)\n",
    "        log_ll = log_ll.mean()\n",
    "        kl_reg = self.kl((alpha-1)*(1-target) + 1)\n",
    "        losses = [log_ll, kl_reg]\n",
    "        self.metrics = dict(zip(self.metric_names, losses))\n",
    "        l = sum(losses)\n",
    "        return sum(losses)\n",
    "\n",
    "class StepCallback(LearnerCallback):\n",
    "    def __init__(self, learn:Learner):\n",
    "        super().__init__(learn)\n",
    "        self.step = 0\n",
    "        \n",
    "    def on_batch_end(self, iteration:int, **kwargs:Any)->None:\n",
    "        self.learn.loss_func.step = iteration\n",
    "\n",
    "m = LeNet().cuda()\n",
    "edl_learner = Learner(mnist_data, m, metrics=accuracy, callback_fns=[LossMetrics,StepCallback])\n",
    "edl_learner.loss_func = LossEq5(edl_learner)"
   ]
  },
  {
   "cell_type": "code",
   "execution_count": 64,
   "metadata": {},
   "outputs": [],
   "source": [
    "xb,yb = mnist_data.one_batch(cpu=False, denorm=False)"
   ]
  },
  {
   "cell_type": "code",
   "execution_count": 65,
   "metadata": {},
   "outputs": [
    {
     "data": {
      "text/plain": [
       "tensor(0.9738, device='cuda:0')"
      ]
     },
     "execution_count": 65,
     "metadata": {},
     "output_type": "execute_result"
    }
   ],
   "source": [
    "with torch.no_grad():\n",
    "    yb_ = edl_learner.model.eval()(xb)\n",
    "    loss = edl_learner.loss_func(yb_, yb)\n",
    "loss"
   ]
  },
  {
   "cell_type": "code",
   "execution_count": 66,
   "metadata": {},
   "outputs": [
    {
     "data": {
      "text/html": [
       "<table border=\"1\" class=\"dataframe\">\n",
       "  <thead>\n",
       "    <tr style=\"text-align: left;\">\n",
       "      <th>epoch</th>\n",
       "      <th>train_loss</th>\n",
       "      <th>valid_loss</th>\n",
       "      <th>accuracy</th>\n",
       "      <th>log_ll</th>\n",
       "      <th>kl_reg</th>\n",
       "      <th>time</th>\n",
       "    </tr>\n",
       "  </thead>\n",
       "  <tbody>\n",
       "    <tr>\n",
       "      <td>0</td>\n",
       "      <td>0.223216</td>\n",
       "      <td>0.202401</td>\n",
       "      <td>0.856300</td>\n",
       "      <td>0.181900</td>\n",
       "      <td>0.020501</td>\n",
       "      <td>00:14</td>\n",
       "    </tr>\n",
       "    <tr>\n",
       "      <td>1</td>\n",
       "      <td>0.230733</td>\n",
       "      <td>0.185866</td>\n",
       "      <td>0.864100</td>\n",
       "      <td>0.167237</td>\n",
       "      <td>0.018629</td>\n",
       "      <td>00:14</td>\n",
       "    </tr>\n",
       "    <tr>\n",
       "      <td>2</td>\n",
       "      <td>0.212176</td>\n",
       "      <td>0.181008</td>\n",
       "      <td>0.867800</td>\n",
       "      <td>0.158652</td>\n",
       "      <td>0.022355</td>\n",
       "      <td>00:13</td>\n",
       "    </tr>\n",
       "    <tr>\n",
       "      <td>3</td>\n",
       "      <td>0.226227</td>\n",
       "      <td>0.186798</td>\n",
       "      <td>0.862300</td>\n",
       "      <td>0.167571</td>\n",
       "      <td>0.019226</td>\n",
       "      <td>00:13</td>\n",
       "    </tr>\n",
       "    <tr>\n",
       "      <td>4</td>\n",
       "      <td>0.230057</td>\n",
       "      <td>0.187384</td>\n",
       "      <td>0.864800</td>\n",
       "      <td>0.164628</td>\n",
       "      <td>0.022756</td>\n",
       "      <td>00:14</td>\n",
       "    </tr>\n",
       "  </tbody>\n",
       "</table>"
      ],
      "text/plain": [
       "<IPython.core.display.HTML object>"
      ]
     },
     "metadata": {},
     "output_type": "display_data"
    }
   ],
   "source": [
    "edl_learner.fit(5, 1e-3)\n",
    "edl_learner.save('edl_model')\n",
    "# edl_learner.load('edl_model');"
   ]
  },
  {
   "cell_type": "code",
   "execution_count": 68,
   "metadata": {},
   "outputs": [
    {
     "data": {
      "text/plain": [
       "tensor(0.9783)"
      ]
     },
     "execution_count": 68,
     "metadata": {},
     "output_type": "execute_result"
    }
   ],
   "source": [
    "yb_,yb = edl_learner.get_preds()\n",
    "accuracy(yb_,yb)"
   ]
  },
  {
   "cell_type": "code",
   "execution_count": 70,
   "metadata": {},
   "outputs": [],
   "source": [
    "with torch.no_grad(): yb_ = edl_learner.model.eval()(rot_digits)"
   ]
  },
  {
   "cell_type": "code",
   "execution_count": 71,
   "metadata": {},
   "outputs": [
    {
     "data": {
      "text/plain": [
       "tensor([1, 4, 6], device='cuda:0')"
      ]
     },
     "execution_count": 71,
     "metadata": {},
     "output_type": "execute_result"
    }
   ],
   "source": [
    "alpha = F.relu(yb_).add(1)\n",
    "u = mnist_data.c / alpha.sum(dim=1)\n",
    "pred = alpha / alpha.sum(dim=1, keepdim=True)\n",
    "lbls = pred.sum(0).topk(3)[1]\n",
    "lp = pred[:,lbls]\n",
    "lbls"
   ]
  },
  {
   "cell_type": "code",
   "execution_count": 72,
   "metadata": {},
   "outputs": [
    {
     "data": {
      "image/png": "[encoded data removed]",
      "text/plain": [
       "<Figure size 576x432 with 2 Axes>"
      ]
     },
     "metadata": {
      "needs_background": "light"
     },
     "output_type": "display_data"
    }
   ],
   "source": [
    "fig,axs = plt.subplots(2, 1, figsize=(8,6), gridspec_kw={'height_ratios': [3, 1]})\n",
    "\n",
    "for i,m in zip(range_of(lbls),['s','^','o']*10): axs[0].plot(degs, lp[:,i], marker=m, label=lbls[i].item())\n",
    "axs[0].plot(degs, u, marker='<', c='red', label='uncertainty')\n",
    "axs[0].legend()\n",
    "axs[0].set_xlim([0,180])  \n",
    "axs[0].set_xlabel('Rotation Degree')\n",
    "axs[0].set_ylabel('Classification Probability')\n",
    "\n",
    "show_image(degs_img, ax=axs[1])\n",
    "plt.tight_layout()"
   ]
  },
  {
   "cell_type": "markdown",
   "metadata": {},
   "source": [
    "# ---"
   ]
  },
  {
   "cell_type": "code",
   "execution_count": null,
   "metadata": {},
   "outputs": [],
   "source": []
  }
 ],
 "metadata": {
  "kernelspec": {
   "display_name": "Python 3",
   "language": "python",
   "name": "python3"
  },
  "language_info": {
   "codemirror_mode": {
    "name": "ipython",
    "version": 3
   },
   "file_extension": ".py",
   "mimetype": "text/x-python",
   "name": "python",
   "nbconvert_exporter": "python",
   "pygments_lexer": "ipython3",
   "version": "3.7.3"
  },
  "toc": {
   "base_numbering": 1,
   "nav_menu": {},
   "number_sections": true,
   "sideBar": true,
   "skip_h1_title": false,
   "title_cell": "Table of Contents",
   "title_sidebar": "Contents",
   "toc_cell": false,
   "toc_position": {},
   "toc_section_display": true,
   "toc_window_display": false
  }
 },
 "nbformat": 4,
 "nbformat_minor": 2
}
